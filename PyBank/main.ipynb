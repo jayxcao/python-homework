{
 "cells": [
  {
   "cell_type": "code",
   "execution_count": 85,
   "metadata": {},
   "outputs": [],
   "source": [
    "from pathlib import Path\n",
    "import numpy as np\n",
    "import csv\n",
    "\n",
    "# Set the file path\n",
    "csvpath = Path(\"budget_data.csv\")\n",
    "\n",
    "# Initialize variables\n",
    "count=0\n",
    "pl=0\n",
    "change = []\n",
    "date_list = []\n",
    "v = {}\n",
    "# Open the csv file as an object\n",
    "with open(csvpath, 'r') as csvfile:\n",
    "\n",
    "    # Pass in the csv file to the csv.reader() function\n",
    "    # (with ',' as the delmiter/separator) and return the csvreader object\n",
    "    csvreader = csv.reader(csvfile, delimiter=',')\n",
    "\n",
    "    # Read the header row first (skip this step if there is no header)\n",
    "    csv_header = next(csvreader)\n",
    "    # Print the header\n",
    "    \n",
    "    \n",
    "    #print(csv_header)\n",
    "\n",
    "    for row in csvreader:\n",
    "        # Print the row\n",
    "        #print(row)\n",
    "        \n",
    "        date = row[0]\n",
    "        date_list.append(row[0])\n",
    "        count += 1\n",
    "        pl = pl + int(row[1])\n",
    "        #change = int(row[1]) - pl\n",
    "        #print(change)\n",
    "        change.append(int(row[1]))\n",
    "\n",
    "#second element in the list minus the first one, iterate through the entire list till the end\n",
    "delta = [change[i+1]-change[i] for i in range(len(change)-1)]"
   ]
  },
  {
   "cell_type": "code",
   "execution_count": 86,
   "metadata": {},
   "outputs": [
    {
     "name": "stdout",
     "output_type": "stream",
     "text": [
      "Total Months: 86\n",
      "Total: $38382578\n",
      "Average Change: $(-2315.12)\n",
      "Greatest Increase in Profits: Feb-2012 $(1926159)\n",
      "Greatest Decrease in Profits: Sep-2013 $(-2196167)\n"
     ]
    }
   ],
   "source": [
    "v = np.diff(change)\n",
    "print(f\"Total Months: {count}\")\n",
    "print(f\"Total: ${pl}\")\n",
    "avg = sum(v)/(count-1)#minus one to as the period of change starts on the second month/row.\n",
    "print(f\"Average Change: $({avg:.2f})\")\n",
    "\n",
    "max_v = max(delta)\n",
    "max_delta=0\n",
    "max_delta = delta.index(max_v) + 1\n",
    "max_date = date_list[max_delta]\n",
    "print(f\"Greatest Increase in Profits: {max_date} $({max_v})\")\n",
    "\n",
    "\n",
    "min_v = min(delta)\n",
    "min_delta=0\n",
    "min_delta = delta.index(min_v) + 1\n",
    "min_date = date_list[min_delta]\n",
    "print(f\"Greatest Decrease in Profits: {min_date} $({min_v})\")"
   ]
  }
 ],
 "metadata": {
  "kernelspec": {
   "display_name": "Python 3",
   "language": "python",
   "name": "python3"
  },
  "language_info": {
   "codemirror_mode": {
    "name": "ipython",
    "version": 3
   },
   "file_extension": ".py",
   "mimetype": "text/x-python",
   "name": "python",
   "nbconvert_exporter": "python",
   "pygments_lexer": "ipython3",
   "version": "3.7.4"
  }
 },
 "nbformat": 4,
 "nbformat_minor": 4
}
